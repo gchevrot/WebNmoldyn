{
 "cells": [
  {
   "cell_type": "code",
   "execution_count": 1,
   "metadata": {
    "collapsed": false
   },
   "outputs": [
    {
     "data": {
      "text/html": [
       "<link href='http://fonts.googleapis.com/css?family=Fenix' rel='stylesheet' type='text/css'>\n",
       "<link href='http://fonts.googleapis.com/css?family=Alegreya+Sans:100,300,400,500,700,800,900,100italic,300italic,400italic,500italic,700italic,800italic,900italic' rel='stylesheet' type='text/css'>\n",
       "<link href='http://fonts.googleapis.com/css?family=Source+Code+Pro:300,400' rel='stylesheet' type='text/css'>\n",
       "<style>\n",
       "    @font-face {\n",
       "        font-family: \"Computer Modern\";\n",
       "        src: url('http://mirrors.ctan.org/fonts/cm-unicode/fonts/otf/cmunss.otf');\n",
       "    }\n",
       "    div.cell{\n",
       "        width:1000px;\n",
       "        margin-left:auto;\n",
       "        margin-right:auto;\n",
       "    }\n",
       "    h1 {\n",
       "        font-family: 'Alegreya Sans', sans-serif;\n",
       "    }\n",
       "    h2 {\n",
       "        font-family: 'Fenix', serif;\n",
       "    }\n",
       "    h3{\n",
       "       font-family: 'Fenix', serif;\n",
       "       margin-top:12px;\n",
       "       margin-bottom: 3px;\n",
       "       }\n",
       "    h4{\n",
       "       font-family: 'Fenix', serif;\n",
       "       }\n",
       "    h5 {\n",
       "       font-family: 'Alegreya Sans', sans-serif;\n",
       "    }\n",
       "    div.text_cell_render{\n",
       "        font-family: 'Alegreya Sans',Computer Modern, \"Helvetica Neue\", Arial, Helvetica, Geneva, sans-serif;\n",
       "        line-height: 130%;\n",
       "        font-size: 115%;\n",
       "        width:900px;\n",
       "        margin-left:auto;\n",
       "        margin-right:auto;\n",
       "    }\n",
       "    .CodeMirror{\n",
       "        font-family: \"Verdana\";    /*\"Source Code Pro\";*/\n",
       "\tfont-size: 90%;\n",
       "        line-height: 140%;\n",
       "    }\n",
       "    div.output_area pre{\n",
       "        font-family: \"Arial\";    \n",
       "\tfont-size: 95%;\n",
       "        color: #585858; \n",
       "    }\n",
       "/*    .prompt{\n",
       "        display: None;\n",
       "    }*/\n",
       "    .text_cell_render h1 {\n",
       "        font-weight: 200;\n",
       "        font-size: 45pt;\n",
       "\tline-height: 100%;\n",
       "        color:#F9423A;\n",
       "        margin-bottom: 0.5em;\n",
       "        margin-top: 0.5em;\n",
       "        display: block;\n",
       "    }\n",
       "    .text_cell_render h5 {\n",
       "        font-weight: 300;\n",
       "        font-size: 16pt;\n",
       "        color: #F9423A;\n",
       "        font-style: italic;\n",
       "        margin-bottom: .5em;\n",
       "        margin-top: 0.5em;\n",
       "        display: block;\n",
       "    }\n",
       "\n",
       "    .warning{\n",
       "        color: rgb( 240, 20, 20 )\n",
       "        }\n",
       "</style>\n",
       "<script>\n",
       "    MathJax.Hub.Config({\n",
       "                        TeX: {\n",
       "                           extensions: [\"AMSmath.js\"]\n",
       "                           },\n",
       "                tex2jax: {\n",
       "                    inlineMath: [ ['$','$'], [\"\\\\(\",\"\\\\)\"] ],\n",
       "                    displayMath: [ ['$$','$$'], [\"\\\\[\",\"\\\\]\"] ]\n",
       "                },\n",
       "                displayAlign: 'center', // Change this to 'center' to center equations.\n",
       "                \"HTML-CSS\": {\n",
       "                    styles: {'.MathJax_Display': {\"margin\": 4}}\n",
       "                }\n",
       "        });\n",
       "</script>\n"
      ],
      "text/plain": [
       "<IPython.core.display.HTML object>"
      ]
     },
     "execution_count": 1,
     "metadata": {},
     "output_type": "execute_result"
    }
   ],
   "source": [
    "import h5py\n",
    "import numpy as np\n",
    "import numpy.random; numpy.random.seed(1)\n",
    "import matplotlib.pyplot as plt\n",
    "from pythonpackage.computation import correlation\n",
    "from notebookstyle import css_styling\n",
    "%matplotlib inline\n",
    "css_styling()"
   ]
  },
  {
   "cell_type": "markdown",
   "metadata": {},
   "source": [
    "### Reading the trajectory file"
   ]
  },
  {
   "cell_type": "code",
   "execution_count": 2,
   "metadata": {
    "collapsed": true
   },
   "outputs": [],
   "source": [
    "file = 'Trajectories/spce300K_NVE_reduced.h5'\n",
    "\n",
    "with h5py.File(file, 'r') as f:\n",
    "    time = np.copy(f['time'])\n",
    "    box_size = np.copy(f['box_size'])\n",
    "    coordinates = np.copy(f['coordinates'])\n",
    "    natoms = f['natoms'][0]"
   ]
  },
  {
   "cell_type": "code",
   "execution_count": 3,
   "metadata": {
    "collapsed": true
   },
   "outputs": [],
   "source": [
    "nmolecules = natoms // 3"
   ]
  },
  {
   "cell_type": "markdown",
   "metadata": {},
   "source": [
    "In the following, we assume that the box is cubic and constant in time, and therefore characterized by a single parameter $L$. Here we check that this assumption is true for the data we have."
   ]
  },
  {
   "cell_type": "code",
   "execution_count": 4,
   "metadata": {
    "collapsed": true
   },
   "outputs": [],
   "source": [
    "l = np.unique(box_size)\n",
    "assert l.shape == (1,)\n",
    "l = l[0]"
   ]
  },
  {
   "cell_type": "markdown",
   "metadata": {},
   "source": [
    "### Computation of the weights\n",
    "\n",
    "The order of the atoms is O, H1, H2 for each water molecule. The scattering lengths are $b_{coh}^{(O)} = 5.805 fm$ and $b_{coh}^{(H)} = -3.741 fm$. We compute the normalized weights $w_{coh}$ from these values."
   ]
  },
  {
   "cell_type": "code",
   "execution_count": 5,
   "metadata": {
    "collapsed": true
   },
   "outputs": [],
   "source": [
    "b_O = 5.805\n",
    "b_H = -3.741\n",
    "w = np.array(nmolecules*[b_O, b_H, b_H])\n",
    "w /= np.sqrt(np.sum(w**2))"
   ]
  },
  {
   "cell_type": "markdown",
   "metadata": {},
   "source": [
    "### Averaging over $q$ vectors\n",
    "\n",
    "We compute $F_{coh}(q, t)$ in an interval $[q_{min}, q_{max}]$, where $q_{min}$ is defined by the box size:\n",
    "\n",
    "  $$ q_{min} = \\frac{2\\pi}{L} $$\n",
    "\n",
    "The parameter $q_{max}$ can be freely chosen.\n",
    "\n",
    "We generate all $q$ vectors whose $x$, $y$, and $z$ components are integer multiples of $q_{min}$. Since $F_{coh}(q, t) = F_{coh}(-q, t)$, we limit ourselves to $q_z \\geq 0$.\n",
    "\n",
    "Because the number of vectors increases rapidly with $q$, it is computationally too expensive to use all of them in the computation of $F_{coh}(q, t)$. Therefore we divide the spherical region in reciprocal space between $[q_{min}$ and $q_{max}$ into thinner shells and pick the desired number of vectors in each shell at random."
   ]
  },
  {
   "cell_type": "code",
   "execution_count": 6,
   "metadata": {
    "collapsed": true
   },
   "outputs": [],
   "source": [
    "def q_shells(q_min, q_max, nshells):\n",
    "    Δq = (q_max-q_min)/nshells\n",
    "    shells = [[] for _ in range(nshells)]\n",
    "    n_max = int(q_max/q_min)\n",
    "    for nx in np.arange(-n_max, n_max+1):\n",
    "        for ny in np.arange(-n_max, n_max+1):\n",
    "            for nz in np.arange(0, n_max+1):\n",
    "                if nx == 0 and ny == 0 and nz == 0:\n",
    "                    continue\n",
    "                qv = np.array([nx, ny, nz])*q_min\n",
    "                qv_length = np.sqrt(np.dot(qv, qv))\n",
    "                i = int((qv_length-q_min)/Δq)\n",
    "                if i < nshells:\n",
    "                    shells[i].append((qv, qv_length))\n",
    "    ticks = q_min + Δq/2 + Δq * np.arange(nshells)\n",
    "    return shells, ticks"
   ]
  },
  {
   "cell_type": "code",
   "execution_count": 7,
   "metadata": {
    "collapsed": true
   },
   "outputs": [],
   "source": [
    "def prune_randomly(shells, nmax):\n",
    "    for i in range(len(shells)):\n",
    "        if len(shells[i]) > nmax:\n",
    "            numpy.random.shuffle(shells[i])\n",
    "            shells[i] = shells[i][:nmax]"
   ]
  },
  {
   "cell_type": "markdown",
   "metadata": {},
   "source": [
    "The range of $q$ we want to cover."
   ]
  },
  {
   "cell_type": "code",
   "execution_count": 8,
   "metadata": {
    "collapsed": false
   },
   "outputs": [
    {
     "name": "stdout",
     "output_type": "stream",
     "text": [
      "3.18764562643 63.7529125286\n"
     ]
    }
   ],
   "source": [
    "q_min = 2.*np.pi/l\n",
    "q_max = 20.*q_min\n",
    "print(q_min, q_max)"
   ]
  },
  {
   "cell_type": "markdown",
   "metadata": {},
   "source": [
    "We divide this $q$ range into 30 spherical shells. If a shell contains more than 10 $q$ vectors, we use only 10 randomly chosen ones."
   ]
  },
  {
   "cell_type": "code",
   "execution_count": 9,
   "metadata": {
    "collapsed": true
   },
   "outputs": [],
   "source": [
    "shells, ticks = q_shells(q_min, q_max, 30)\n",
    "prune_randomly(shells, 10)"
   ]
  },
  {
   "cell_type": "markdown",
   "metadata": {},
   "source": [
    "We compute $F_{coh}(q, t)$ for all $q$ vectors in a shell and take the average."
   ]
  },
  {
   "cell_type": "code",
   "execution_count": 10,
   "metadata": {
    "collapsed": false
   },
   "outputs": [],
   "source": [
    "f_q = []\n",
    "\n",
    "for i in range(len(shells)):\n",
    "    f = 0.\n",
    "    for qv, qv_length in shells[i]:\n",
    "\n",
    "        rho = np.sum(w * np.exp(-1j*np.dot(coordinates, qv)), axis=1)\n",
    "        f += correlation(rho)\n",
    "    f_q.append(f.real / len(shells[i]))\n",
    "\n",
    "f_q = np.array(f_q)"
   ]
  },
  {
   "cell_type": "markdown",
   "metadata": {},
   "source": [
    "A plot of $F(q, 0)$"
   ]
  },
  {
   "cell_type": "code",
   "execution_count": 16,
   "metadata": {
    "collapsed": false
   },
   "outputs": [
    {
     "data": {
      "text/plain": [
       "[<matplotlib.lines.Line2D at 0x12c4b3978>]"
      ]
     },
     "execution_count": 16,
     "metadata": {},
     "output_type": "execute_result"
    },
    {
     "data": {
      "image/png": "[encoded data removed]",
      "text/plain": [
       "<matplotlib.figure.Figure at 0x12c480208>"
      ]
     },
     "metadata": {},
     "output_type": "display_data"
    }
   ],
   "source": [
    "plt.plot(ticks, f_q[:, 0])"
   ]
  },
  {
   "cell_type": "markdown",
   "metadata": {},
   "source": [
    "$F(q, t)$ for selected values of $q$"
   ]
  },
  {
   "cell_type": "code",
   "execution_count": 14,
   "metadata": {
    "collapsed": false
   },
   "outputs": [
    {
     "data": {
      "text/plain": [
       "<matplotlib.legend.Legend at 0x10fa17cc0>"
      ]
     },
     "execution_count": 14,
     "metadata": {},
     "output_type": "execute_result"
    },
    {
     "data": {
      "image/png": "[encoded data removed]",
      "text/plain": [
       "<matplotlib.figure.Figure at 0x10fa17d30>"
      ]
     },
     "metadata": {},
     "output_type": "display_data"
    }
   ],
   "source": [
    "for i in range(0, len(ticks), 5):\n",
    "    plt.plot(time[:300], f_q[i][:300], label=\"q = %f\" % ticks[i])\n",
    "plt.legend()"
   ]
  },
  {
   "cell_type": "code",
   "execution_count": null,
   "metadata": {
    "collapsed": true
   },
   "outputs": [],
   "source": []
  }
 ],
 "metadata": {
  "kernelspec": {
   "display_name": "Python 3",
   "language": "python",
   "name": "python3"
  },
  "language_info": {
   "codemirror_mode": {
    "name": "ipython",
    "version": 3
   },
   "file_extension": ".py",
   "mimetype": "text/x-python",
   "name": "python",
   "nbconvert_exporter": "python",
   "pygments_lexer": "ipython3",
   "version": "3.5.2"
  }
 },
 "nbformat": 4,
 "nbformat_minor": 0
}
